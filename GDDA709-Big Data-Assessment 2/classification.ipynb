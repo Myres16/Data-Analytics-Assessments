{
 "cells": [
  {
   "cell_type": "code",
   "execution_count": 1,
   "id": "76cbd809-3609-4712-b059-75dcc6879f72",
   "metadata": {},
   "outputs": [
    {
     "name": "stdout",
     "output_type": "stream",
     "text": [
      "+---+------------+--------+---------+-------+-------+-------+----+-------+---+-----+--------+--------+-----+--------+--------+---+\n",
      "|age|         job| marital|education|default|balance|housing|loan|contact|day|month|duration|campaign|pdays|previous|poutcome|  y|\n",
      "+---+------------+--------+---------+-------+-------+-------+----+-------+---+-----+--------+--------+-----+--------+--------+---+\n",
      "| 58|  management| married| tertiary|     no|   2143|    yes|  no|unknown|  5|  may|     261|       1|   -1|       0| unknown| no|\n",
      "| 44|  technician|  single|secondary|     no|     29|    yes|  no|unknown|  5|  may|     151|       1|   -1|       0| unknown| no|\n",
      "| 33|entrepreneur| married|secondary|     no|      2|    yes| yes|unknown|  5|  may|      76|       1|   -1|       0| unknown| no|\n",
      "| 47| blue-collar| married|  unknown|     no|   1506|    yes|  no|unknown|  5|  may|      92|       1|   -1|       0| unknown| no|\n",
      "| 33|     unknown|  single|  unknown|     no|      1|     no|  no|unknown|  5|  may|     198|       1|   -1|       0| unknown| no|\n",
      "| 35|  management| married| tertiary|     no|    231|    yes|  no|unknown|  5|  may|     139|       1|   -1|       0| unknown| no|\n",
      "| 28|  management|  single| tertiary|     no|    447|    yes| yes|unknown|  5|  may|     217|       1|   -1|       0| unknown| no|\n",
      "| 42|entrepreneur|divorced| tertiary|    yes|      2|    yes|  no|unknown|  5|  may|     380|       1|   -1|       0| unknown| no|\n",
      "| 58|     retired| married|  primary|     no|    121|    yes|  no|unknown|  5|  may|      50|       1|   -1|       0| unknown| no|\n",
      "| 43|  technician|  single|secondary|     no|    593|    yes|  no|unknown|  5|  may|      55|       1|   -1|       0| unknown| no|\n",
      "| 41|      admin.|divorced|secondary|     no|    270|    yes|  no|unknown|  5|  may|     222|       1|   -1|       0| unknown| no|\n",
      "| 29|      admin.|  single|secondary|     no|    390|    yes|  no|unknown|  5|  may|     137|       1|   -1|       0| unknown| no|\n",
      "| 53|  technician| married|secondary|     no|      6|    yes|  no|unknown|  5|  may|     517|       1|   -1|       0| unknown| no|\n",
      "| 58|  technician| married|  unknown|     no|     71|    yes|  no|unknown|  5|  may|      71|       1|   -1|       0| unknown| no|\n",
      "| 57|    services| married|secondary|     no|    162|    yes|  no|unknown|  5|  may|     174|       1|   -1|       0| unknown| no|\n",
      "| 51|     retired| married|  primary|     no|    229|    yes|  no|unknown|  5|  may|     353|       1|   -1|       0| unknown| no|\n",
      "| 45|      admin.|  single|  unknown|     no|     13|    yes|  no|unknown|  5|  may|      98|       1|   -1|       0| unknown| no|\n",
      "| 57| blue-collar| married|  primary|     no|     52|    yes|  no|unknown|  5|  may|      38|       1|   -1|       0| unknown| no|\n",
      "| 60|     retired| married|  primary|     no|     60|    yes|  no|unknown|  5|  may|     219|       1|   -1|       0| unknown| no|\n",
      "| 33|    services| married|secondary|     no|      0|    yes|  no|unknown|  5|  may|      54|       1|   -1|       0| unknown| no|\n",
      "+---+------------+--------+---------+-------+-------+-------+----+-------+---+-----+--------+--------+-----+--------+--------+---+\n",
      "only showing top 20 rows\n",
      "\n"
     ]
    }
   ],
   "source": [
    "from pyspark.sql import SparkSession\n",
    "from pyspark.sql.functions import when, col, to_date, concat, lit, month, year, count, concat_ws,  date_trunc, when, trim, date_format, mean as _mean,  lag, sum as spark_sum, monotonically_increasing_id\n",
    "from pyspark.ml.feature import StringIndexer, StandardScaler, VectorAssembler\n",
    "from pyspark.ml.classification import LogisticRegression\n",
    "from pyspark.ml.evaluation import BinaryClassificationEvaluator\n",
    "from pyspark.ml import Pipeline\n",
    "\n",
    "from pyspark.sql.functions import when\n",
    "\n",
    "# Initialize a Spark session\n",
    "spark = SparkSession.builder.appName(\"BankMarketingClassification\").getOrCreate()\n",
    "\n",
    "# Load the CSV file\n",
    "data = spark.read.csv('bank_marketing.csv', header=True, inferSchema=True)\n",
    "\n",
    "# Show the first few rows of the DataFrame\n",
    "data.show()\n"
   ]
  },
  {
   "cell_type": "markdown",
   "id": "1f885f1c-024d-4e1f-92c7-0ab83396bb34",
   "metadata": {},
   "source": [
    "Data Cleaning"
   ]
  },
  {
   "cell_type": "code",
   "execution_count": 2,
   "id": "328c2b3d-8025-4b77-ba9c-2678403cec0f",
   "metadata": {},
   "outputs": [],
   "source": [
    "# Remove duplicates\n",
    "data = data.dropDuplicates()"
   ]
  },
  {
   "cell_type": "code",
   "execution_count": 3,
   "id": "6526fbdf-a454-4be0-948f-c180280798c2",
   "metadata": {},
   "outputs": [],
   "source": [
    "# Handle missing values\n",
    "# For simplicity, filling numeric columns with the mean and string columns with 'unknown'\n",
    "numeric_cols = [col_name for col_name, dtype in data.dtypes if dtype in ['int', 'double']]\n",
    "string_cols = [col_name for col_name, dtype in data.dtypes if dtype == 'string']\n",
    "\n",
    "# Fill numeric columns with mean\n",
    "for col_name in numeric_cols:\n",
    "    mean_val = data.select(_mean(col(col_name))).collect()[0][0]\n",
    "    data = data.fillna(mean_val, subset=[col_name])"
   ]
  },
  {
   "cell_type": "code",
   "execution_count": 4,
   "id": "503ae5fc-0661-46ae-b6f9-50cf055d571a",
   "metadata": {},
   "outputs": [],
   "source": [
    "# Fill string columns with 'unknown'\n",
    "data = data.fillna('unknown', subset=string_cols)\n",
    "\n",
    "# Convert data types (example: converting a column 'age' to integer)\n",
    "data = data.withColumn(\"age\", col(\"age\").cast(\"integer\"))"
   ]
  },
  {
   "cell_type": "code",
   "execution_count": 5,
   "id": "4798a220-939a-4ba2-b871-bc5d2ebe7b7c",
   "metadata": {},
   "outputs": [],
   "source": [
    "# Trim whitespace from string columns\n",
    "for col_name in string_cols:\n",
    "    data = data.withColumn(col_name, trim(col(col_name)))"
   ]
  },
  {
   "cell_type": "code",
   "execution_count": 6,
   "id": "4b68a933-d0f3-4213-8b4a-8bdca7e5dc75",
   "metadata": {},
   "outputs": [],
   "source": [
    "# Filter outliers (example: removing rows where 'age' > 100)\n",
    "data = data.filter(col(\"age\") <= 100)"
   ]
  },
  {
   "cell_type": "code",
   "execution_count": 7,
   "id": "567a6559-0f57-41c0-a8f1-24c611533608",
   "metadata": {},
   "outputs": [
    {
     "name": "stdout",
     "output_type": "stream",
     "text": [
      "+---+-----------+--------+---------+-------+-------+-------+----+-------+---+-----+--------+--------+-----+--------+--------+---+\n",
      "|age|        job| marital|education|default|balance|housing|loan|contact|day|month|duration|campaign|pdays|previous|poutcome|  y|\n",
      "+---+-----------+--------+---------+-------+-------+-------+----+-------+---+-----+--------+--------+-----+--------+--------+---+\n",
      "| 28| unemployed|  single| tertiary|     no|      0|    yes|  no|unknown|  5|  may|     125|       2|   -1|       0| unknown| no|\n",
      "| 32| technician| married|secondary|     no|      0|    yes|  no|unknown|  6|  may|     176|       2|   -1|       0| unknown| no|\n",
      "| 56|blue-collar| married|secondary|     no|   1602|    yes|  no|unknown|  6|  may|     427|       1|   -1|       0| unknown| no|\n",
      "| 30|blue-collar|divorced|secondary|     no|    251|    yes| yes|unknown|  7|  may|     120|       2|   -1|       0| unknown| no|\n",
      "| 55|    retired| married|secondary|     no|    102|    yes|  no|unknown|  7|  may|      74|       1|   -1|       0| unknown| no|\n",
      "+---+-----------+--------+---------+-------+-------+-------+----+-------+---+-----+--------+--------+-----+--------+--------+---+\n",
      "only showing top 5 rows\n",
      "\n"
     ]
    }
   ],
   "source": [
    "data.show(5)\n",
    "# End of Data Cleaning"
   ]
  },
  {
   "cell_type": "code",
   "execution_count": 8,
   "id": "9a335fb4-8300-4e98-91c1-c34b7b067060",
   "metadata": {},
   "outputs": [
    {
     "name": "stdout",
     "output_type": "stream",
     "text": [
      "Test Accuracy: 0.8725\n"
     ]
    }
   ],
   "source": [
    "# Drop unnecessary columns\n",
    "data = data.drop('Unnamed: 0', 'index', 'prev_month')\n",
    "\n",
    "# Handle missing values by treating 'unknown' as a separate category\n",
    "data = data.withColumn('job', when(data.job == 'unknown', 'other').otherwise(data.job))\n",
    "data = data.withColumn('education', when(data.education == 'unknown', 'other').otherwise(data.education))\n",
    "data = data.withColumn('contact', when(data.contact == 'unknown', 'other').otherwise(data.contact))\n",
    "data = data.withColumn('poutcome', when(data.poutcome == 'unknown', 'other').otherwise(data.poutcome))\n",
    "\n",
    "# Convert target variable 'y' to numeric\n",
    "data = data.withColumn('y', when(data.y == 'yes', 1).otherwise(0))\n",
    "\n",
    "# Index categorical columns\n",
    "categorical_columns = ['job', 'marital', 'education', 'default', 'housing', 'loan', 'contact', 'poutcome']\n",
    "indexers = [StringIndexer(inputCol=column, outputCol=column + \"_index\") for column in categorical_columns]\n",
    "\n",
    "# Assemble all features into a single vector\n",
    "assembler = VectorAssembler(\n",
    "    inputCols=[column + \"_index\" for column in categorical_columns] + ['age', 'balance', 'duration', 'campaign', 'pdays', 'previous'],\n",
    "    outputCol=\"features\")\n",
    "\n",
    "# Scale the features\n",
    "scaler = StandardScaler(inputCol=\"features\", outputCol=\"scaled_features\")\n",
    "\n",
    "# Split the data into training and testing sets\n",
    "train_data, test_data = data.randomSplit([0.8, 0.2], seed=42)\n",
    "\n",
    "# Create a pipeline\n",
    "pipeline = Pipeline(stages=indexers + [assembler, scaler])\n",
    "\n",
    "# Fit the pipeline to the training data\n",
    "pipeline_model = pipeline.fit(train_data)\n",
    "train_data = pipeline_model.transform(train_data)\n",
    "test_data = pipeline_model.transform(test_data)\n",
    "\n",
    "# Select the scaled features and target variable for training\n",
    "train_data = train_data.select('scaled_features', 'y')\n",
    "test_data = test_data.select('scaled_features', 'y')\n",
    "\n",
    "# Train a Logistic Regression model\n",
    "lr = LogisticRegression(featuresCol='scaled_features', labelCol='y')\n",
    "lr_model = lr.fit(train_data)\n",
    "\n",
    "# Make predictions on the test data\n",
    "predictions = lr_model.transform(test_data)\n",
    "\n",
    "# Evaluate the model\n",
    "evaluator = BinaryClassificationEvaluator(labelCol='y')\n",
    "accuracy = evaluator.evaluate(predictions)\n",
    "\n",
    "# Show some predictions\n",
    "predictions = predictions.withColumn('subscription_status', when(predictions.prediction == 1, 'Subscribed').otherwise('Not Subscribed'))\n",
    "\n",
    "print(f\"Test Accuracy: {accuracy:.4f}\")"
   ]
  },
  {
   "cell_type": "code",
   "execution_count": 9,
   "id": "7d915d6b-ec7c-4077-8770-55cc708af907",
   "metadata": {},
   "outputs": [
    {
     "name": "stdout",
     "output_type": "stream",
     "text": [
      "+--------------------+---+----------+--------------------+-------------------+\n",
      "|     scaled_features|  y|prediction|         probability|subscription_status|\n",
      "+--------------------+---+----------+--------------------+-------------------+\n",
      "|[3.74763539197637...|  1|       1.0|[0.34625190852921...|         Subscribed|\n",
      "|[3.74763539197637...|  1|       0.0|[0.90548187824278...|     Not Subscribed|\n",
      "|[3.74763539197637...|  1|       0.0|[0.83252796271879...|     Not Subscribed|\n",
      "|(14,[0,1,6,8,9,10...|  0|       0.0|[0.98332427833181...|     Not Subscribed|\n",
      "|[3.74763539197637...|  0|       0.0|[0.88742476411033...|     Not Subscribed|\n",
      "|(14,[0,1,6,8,9,10...|  0|       0.0|[0.98350396691785...|     Not Subscribed|\n",
      "|(14,[0,1,4,8,9,10...|  1|       0.0|[0.82352176380828...|     Not Subscribed|\n",
      "|[3.74763539197637...|  0|       0.0|[0.97206014506715...|     Not Subscribed|\n",
      "|[3.74763539197637...|  0|       0.0|[0.95104162417019...|     Not Subscribed|\n",
      "|[3.74763539197637...|  0|       0.0|[0.71228311778274...|     Not Subscribed|\n",
      "|[3.74763539197637...|  0|       0.0|[0.91870480560233...|     Not Subscribed|\n",
      "|(14,[0,1,6,8,9,10...|  0|       0.0|[0.97957105349774...|     Not Subscribed|\n",
      "|(14,[0,1,4,8,9,10...|  0|       0.0|[0.93503501658812...|     Not Subscribed|\n",
      "|[3.74763539197637...|  0|       0.0|[0.96187706271984...|     Not Subscribed|\n",
      "|(14,[0,1,8,9,10,1...|  0|       0.0|[0.86016378373233...|     Not Subscribed|\n",
      "|[2.24858123518582...|  1|       0.0|[0.93288552480619...|     Not Subscribed|\n",
      "|[3.74763539197637...|  1|       0.0|[0.74509125006355...|     Not Subscribed|\n",
      "|(14,[0,1,6,8,9,10...|  0|       0.0|[0.98025036294587...|     Not Subscribed|\n",
      "|(14,[1,6,8,9,10,1...|  0|       0.0|[0.98493897684875...|     Not Subscribed|\n",
      "|(14,[1,8,9,10,11,...|  0|       0.0|[0.91784797605288...|     Not Subscribed|\n",
      "|[2.62334477438346...|  0|       0.0|[0.94245392050752...|     Not Subscribed|\n",
      "|[2.62334477438346...|  1|       0.0|[0.93667682875556...|     Not Subscribed|\n",
      "|(14,[0,1,6,8,9,10...|  0|       0.0|[0.94637923515487...|     Not Subscribed|\n",
      "|(14,[0,1,6,8,9,10...|  1|       0.0|[0.77141854252863...|     Not Subscribed|\n",
      "|(14,[0,6,8,9,10,1...|  0|       0.0|[0.94699216399667...|     Not Subscribed|\n",
      "|(14,[0,7,8,9,10,1...|  0|       0.0|[0.90145982940380...|     Not Subscribed|\n",
      "|(14,[0,1,6,8,9,10...|  0|       0.0|[0.97151614941588...|     Not Subscribed|\n",
      "|[1.12429061759291...|  0|       0.0|[0.95488237076763...|     Not Subscribed|\n",
      "|(14,[2,6,8,9,10,1...|  1|       0.0|[0.73402189978396...|     Not Subscribed|\n",
      "|[0.0,1.4412855725...|  0|       0.0|[0.99404450374284...|     Not Subscribed|\n",
      "|(14,[1,8,9,10,11,...|  0|       0.0|[0.91037481808322...|     Not Subscribed|\n",
      "|(14,[0,1,6,8,9,10...|  0|       0.0|[0.98357476647111...|     Not Subscribed|\n",
      "|[3.74763539197637...|  0|       0.0|[0.85923939396313...|     Not Subscribed|\n",
      "|[3.74763539197637...|  1|       1.0|[0.37733798067645...|         Subscribed|\n",
      "|[3.74763539197637...|  1|       1.0|[0.45270475530110...|         Subscribed|\n",
      "|(14,[0,1,4,8,9,10...|  0|       0.0|[0.85687323602595...|     Not Subscribed|\n",
      "|[2.99810831358110...|  0|       0.0|[0.98619031687045...|     Not Subscribed|\n",
      "|(14,[0,1,4,5,8,10...|  0|       0.0|[0.93255200807260...|     Not Subscribed|\n",
      "|[1.12429061759291...|  0|       0.0|[0.99715002838593...|     Not Subscribed|\n",
      "|(14,[0,1,6,8,9,10...|  0|       0.0|[0.97621458912821...|     Not Subscribed|\n",
      "|(14,[0,1,4,8,9,10...|  0|       0.0|[0.90826405472466...|     Not Subscribed|\n",
      "|[1.12429061759291...|  1|       0.0|[0.93128110627169...|     Not Subscribed|\n",
      "|(14,[1,2,6,8,9,10...|  0|       0.0|[0.97476343830590...|     Not Subscribed|\n",
      "|(14,[1,6,8,9,10,1...|  0|       0.0|[0.92912037269580...|     Not Subscribed|\n",
      "|(14,[1,8,9,10,11,...|  1|       0.0|[0.80845810817470...|     Not Subscribed|\n",
      "|(14,[1,6,8,9,10,1...|  0|       0.0|[0.98518287303061...|     Not Subscribed|\n",
      "|(14,[1,4,5,8,9,10...|  0|       0.0|[0.97211183159852...|     Not Subscribed|\n",
      "|(14,[1,4,8,9,10,1...|  0|       0.0|[0.88199144868937...|     Not Subscribed|\n",
      "|(14,[1,6,8,9,10,1...|  0|       0.0|[0.97786662802355...|     Not Subscribed|\n",
      "|[0.37476353919763...|  0|       0.0|[0.68563385935690...|     Not Subscribed|\n",
      "|[0.37476353919763...|  0|       0.0|[0.98611699863892...|     Not Subscribed|\n",
      "|[0.37476353919763...|  0|       0.0|[0.97359442509360...|     Not Subscribed|\n",
      "|(14,[0,1,2,8,9,10...|  0|       0.0|[0.96082598743107...|     Not Subscribed|\n",
      "|(14,[0,8,9,10,11,...|  0|       0.0|[0.94738167959999...|     Not Subscribed|\n",
      "|[3.74763539197637...|  0|       0.0|[0.80102459386039...|     Not Subscribed|\n",
      "|[3.74763539197637...|  0|       0.0|[0.86437648954935...|     Not Subscribed|\n",
      "|[3.74763539197637...|  0|       1.0|[0.36798455825728...|         Subscribed|\n",
      "|(14,[0,1,4,8,9,10...|  0|       0.0|[0.90985271796484...|     Not Subscribed|\n",
      "|(14,[0,1,2,8,9,10...|  0|       0.0|[0.96622430798681...|     Not Subscribed|\n",
      "|(14,[0,4,6,8,9,10...|  0|       0.0|[0.96628788617241...|     Not Subscribed|\n",
      "|[1.12429061759291...|  0|       0.0|[0.91758867056141...|     Not Subscribed|\n",
      "|[1.12429061759291...|  0|       0.0|[0.94160770774815...|     Not Subscribed|\n",
      "|(14,[0,1,4,8,9,10...|  0|       0.0|[0.88479374288671...|     Not Subscribed|\n",
      "|[1.12429061759291...|  0|       0.0|[0.95937079896741...|     Not Subscribed|\n",
      "|(14,[2,6,8,10,11,...|  0|       0.0|[0.94631455164635...|     Not Subscribed|\n",
      "|[0.0,0.0,2.312088...|  0|       0.0|[0.97202285002517...|     Not Subscribed|\n",
      "|(14,[1,2,8,9,10,1...|  1|       0.0|[0.68697167287542...|     Not Subscribed|\n",
      "|[0.0,1.4412855725...|  0|       0.0|[0.76478732411105...|     Not Subscribed|\n",
      "|(14,[1,8,9,10,11,...|  0|       0.0|[0.97968239256928...|     Not Subscribed|\n",
      "|(14,[1,6,8,9,10,1...|  0|       0.0|[0.94464865582912...|     Not Subscribed|\n",
      "|(14,[1,7,8,9,10,1...|  0|       0.0|[0.89098678198412...|     Not Subscribed|\n",
      "|(14,[1,4,5,8,9,10...|  0|       0.0|[0.76512128501277...|     Not Subscribed|\n",
      "|(14,[1,5,8,9,10,1...|  0|       0.0|[0.98907119281824...|     Not Subscribed|\n",
      "|(14,[1,3,6,8,9,10...|  0|       0.0|[0.96384306658268...|     Not Subscribed|\n",
      "|(14,[0,2,4,8,9,10...|  0|       0.0|[0.63775094659697...|     Not Subscribed|\n",
      "|(14,[0,2,8,9,10,1...|  0|       0.0|[0.83941350744098...|     Not Subscribed|\n",
      "|[0.37476353919763...|  0|       0.0|[0.86247497488142...|     Not Subscribed|\n",
      "|[0.37476353919763...|  0|       0.0|[0.84114677927492...|     Not Subscribed|\n",
      "|[0.37476353919763...|  0|       0.0|[0.95955124501424...|     Not Subscribed|\n",
      "|[0.37476353919763...|  0|       0.0|[0.97904381697375...|     Not Subscribed|\n",
      "|[0.37476353919763...|  0|       0.0|[0.92985749887134...|     Not Subscribed|\n",
      "|[0.37476353919763...|  1|       1.0|[0.31024415209377...|         Subscribed|\n",
      "|[0.37476353919763...|  0|       0.0|[0.89747661849954...|     Not Subscribed|\n",
      "|[2.24858123518582...|  1|       0.0|[0.75679097226477...|     Not Subscribed|\n",
      "|[2.24858123518582...|  0|       0.0|[0.91063829618650...|     Not Subscribed|\n",
      "|(14,[0,1,6,8,9,10...|  0|       0.0|[0.98419450232888...|     Not Subscribed|\n",
      "|[1.49905415679055...|  0|       0.0|[0.93486882267031...|     Not Subscribed|\n",
      "|[3.74763539197637...|  0|       0.0|[0.96271347937797...|     Not Subscribed|\n",
      "|(14,[0,1,2,8,9,10...|  0|       0.0|[0.94397573457091...|     Not Subscribed|\n",
      "|(14,[0,1,4,8,9,10...|  0|       0.0|[0.85806908520341...|     Not Subscribed|\n",
      "|(14,[0,1,6,8,9,10...|  0|       0.0|[0.97919553416565...|     Not Subscribed|\n",
      "|[3.74763539197637...|  0|       0.0|[0.94815479151744...|     Not Subscribed|\n",
      "|(14,[0,1,8,9,10,1...|  1|       0.0|[0.73389611475257...|     Not Subscribed|\n",
      "|(14,[0,1,8,9,10,1...|  0|       0.0|[0.98871500436756...|     Not Subscribed|\n",
      "|(14,[0,1,4,8,9,10...|  0|       0.0|[0.86142856817082...|     Not Subscribed|\n",
      "|[3.74763539197637...|  0|       0.0|[0.83551252466100...|     Not Subscribed|\n",
      "|[0.74952707839527...|  0|       0.0|[0.52112703055917...|     Not Subscribed|\n",
      "|(14,[0,1,4,5,8,10...|  0|       0.0|[0.99645903923759...|     Not Subscribed|\n",
      "|(14,[0,1,4,8,9,10...|  0|       0.0|[0.91508058778382...|     Not Subscribed|\n",
      "|(14,[0,1,4,8,9,10...|  0|       0.0|[0.75608397515373...|     Not Subscribed|\n",
      "+--------------------+---+----------+--------------------+-------------------+\n",
      "only showing top 100 rows\n",
      "\n"
     ]
    }
   ],
   "source": [
    "predictions.select('scaled_features', 'y', 'prediction', 'probability', 'subscription_status').show(100)"
   ]
  }
 ],
 "metadata": {
  "kernelspec": {
   "display_name": "Python 3 (ipykernel)",
   "language": "python",
   "name": "python3"
  },
  "language_info": {
   "codemirror_mode": {
    "name": "ipython",
    "version": 3
   },
   "file_extension": ".py",
   "mimetype": "text/x-python",
   "name": "python",
   "nbconvert_exporter": "python",
   "pygments_lexer": "ipython3",
   "version": "3.11.6"
  }
 },
 "nbformat": 4,
 "nbformat_minor": 5
}
