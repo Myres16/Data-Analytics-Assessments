{
 "cells": [
  {
   "cell_type": "code",
   "execution_count": 1,
   "id": "50ba989a-279c-4db4-898e-4b2462d26b27",
   "metadata": {},
   "outputs": [
    {
     "name": "stdout",
     "output_type": "stream",
     "text": [
      "+---+------------+--------+---------+-------+-------+-------+----+-------+---+-----+--------+--------+-----+--------+--------+---+\n",
      "|age|         job| marital|education|default|balance|housing|loan|contact|day|month|duration|campaign|pdays|previous|poutcome|  y|\n",
      "+---+------------+--------+---------+-------+-------+-------+----+-------+---+-----+--------+--------+-----+--------+--------+---+\n",
      "| 58|  management| married| tertiary|     no|   2143|    yes|  no|unknown|  5|  may|     261|       1|   -1|       0| unknown| no|\n",
      "| 44|  technician|  single|secondary|     no|     29|    yes|  no|unknown|  5|  may|     151|       1|   -1|       0| unknown| no|\n",
      "| 33|entrepreneur| married|secondary|     no|      2|    yes| yes|unknown|  5|  may|      76|       1|   -1|       0| unknown| no|\n",
      "| 47| blue-collar| married|  unknown|     no|   1506|    yes|  no|unknown|  5|  may|      92|       1|   -1|       0| unknown| no|\n",
      "| 33|     unknown|  single|  unknown|     no|      1|     no|  no|unknown|  5|  may|     198|       1|   -1|       0| unknown| no|\n",
      "| 35|  management| married| tertiary|     no|    231|    yes|  no|unknown|  5|  may|     139|       1|   -1|       0| unknown| no|\n",
      "| 28|  management|  single| tertiary|     no|    447|    yes| yes|unknown|  5|  may|     217|       1|   -1|       0| unknown| no|\n",
      "| 42|entrepreneur|divorced| tertiary|    yes|      2|    yes|  no|unknown|  5|  may|     380|       1|   -1|       0| unknown| no|\n",
      "| 58|     retired| married|  primary|     no|    121|    yes|  no|unknown|  5|  may|      50|       1|   -1|       0| unknown| no|\n",
      "| 43|  technician|  single|secondary|     no|    593|    yes|  no|unknown|  5|  may|      55|       1|   -1|       0| unknown| no|\n",
      "| 41|      admin.|divorced|secondary|     no|    270|    yes|  no|unknown|  5|  may|     222|       1|   -1|       0| unknown| no|\n",
      "| 29|      admin.|  single|secondary|     no|    390|    yes|  no|unknown|  5|  may|     137|       1|   -1|       0| unknown| no|\n",
      "| 53|  technician| married|secondary|     no|      6|    yes|  no|unknown|  5|  may|     517|       1|   -1|       0| unknown| no|\n",
      "| 58|  technician| married|  unknown|     no|     71|    yes|  no|unknown|  5|  may|      71|       1|   -1|       0| unknown| no|\n",
      "| 57|    services| married|secondary|     no|    162|    yes|  no|unknown|  5|  may|     174|       1|   -1|       0| unknown| no|\n",
      "| 51|     retired| married|  primary|     no|    229|    yes|  no|unknown|  5|  may|     353|       1|   -1|       0| unknown| no|\n",
      "| 45|      admin.|  single|  unknown|     no|     13|    yes|  no|unknown|  5|  may|      98|       1|   -1|       0| unknown| no|\n",
      "| 57| blue-collar| married|  primary|     no|     52|    yes|  no|unknown|  5|  may|      38|       1|   -1|       0| unknown| no|\n",
      "| 60|     retired| married|  primary|     no|     60|    yes|  no|unknown|  5|  may|     219|       1|   -1|       0| unknown| no|\n",
      "| 33|    services| married|secondary|     no|      0|    yes|  no|unknown|  5|  may|      54|       1|   -1|       0| unknown| no|\n",
      "+---+------------+--------+---------+-------+-------+-------+----+-------+---+-----+--------+--------+-----+--------+--------+---+\n",
      "only showing top 20 rows\n",
      "\n"
     ]
    }
   ],
   "source": [
    "from pyspark.sql import SparkSession\n",
    "\n",
    "from pyspark.sql.functions import when, col, to_date, concat, lit, month, year, count, concat_ws,  date_trunc, when, trim, date_format, mean as _mean, median,  lag, sum as spark_sum, monotonically_increasing_id\n",
    "from pyspark.ml.feature import StringIndexer, VectorAssembler, OneHotEncoder\n",
    "from pyspark.ml.regression import LinearRegression, RandomForestRegressor\n",
    "from pyspark.ml.evaluation import RegressionEvaluator \n",
    "from pyspark.ml import Pipeline\n",
    "\n",
    "\n",
    "# Initialize a Spark session\n",
    "spark = SparkSession.builder.appName(\"BankMarketingRegression\").getOrCreate()\n",
    "\n",
    "# Load the CSV file\n",
    "df = spark.read.csv('bank_marketing.csv', header=True, inferSchema=True)\n",
    "\n",
    "# Show the first few rows of the DataFrame\n",
    "df.show()\n"
   ]
  },
  {
   "cell_type": "markdown",
   "id": "6ba5e4fa-8a25-4c88-bca3-a5f7978172c9",
   "metadata": {},
   "source": [
    "Data Cleaning"
   ]
  },
  {
   "cell_type": "code",
   "execution_count": 2,
   "id": "f0f2d33b-0636-4c22-860e-72504f7d3d09",
   "metadata": {},
   "outputs": [],
   "source": [
    "# Remove duplicates\n",
    "df = df.dropDuplicates()"
   ]
  },
  {
   "cell_type": "code",
   "execution_count": 3,
   "id": "ebd9a2b9-2b18-4b39-b9fb-6f4cc27752f6",
   "metadata": {},
   "outputs": [],
   "source": [
    "# Handle missing values\n",
    "# For simplicity, filling numeric columns with the mean and string columns with 'unknown'\n",
    "numeric_cols = [col_name for col_name, dtype in df.dtypes if dtype in ['int', 'double']]\n",
    "string_cols = [col_name for col_name, dtype in df.dtypes if dtype == 'string']\n",
    "\n",
    "# Fill numeric columns with mean\n",
    "for col_name in numeric_cols:\n",
    "    mean_val = df.select(_mean(col(col_name))).collect()[0][0]\n",
    "    data = df.fillna(mean_val, subset=[col_name])"
   ]
  },
  {
   "cell_type": "code",
   "execution_count": 4,
   "id": "7f1baac7-3d96-4a3c-a38c-3ad500d706e8",
   "metadata": {},
   "outputs": [],
   "source": [
    "# Fill string columns with 'unknown'\n",
    "df = df.fillna('unknown', subset=string_cols)\n",
    "\n",
    "# Convert data types (example: converting a column 'age' to integer)\n",
    "df = df.withColumn(\"age\", col(\"age\").cast(\"integer\"))"
   ]
  },
  {
   "cell_type": "code",
   "execution_count": 5,
   "id": "c79a8666-a99c-4be9-b9a8-2a1ff7f8a5b0",
   "metadata": {},
   "outputs": [],
   "source": [
    "# Trim whitespace from string columns\n",
    "for col_name in string_cols:\n",
    "    df = df.withColumn(col_name, trim(col(col_name)))"
   ]
  },
  {
   "cell_type": "code",
   "execution_count": 6,
   "id": "8c918bb0-3521-4677-a54e-30655bde5d05",
   "metadata": {},
   "outputs": [],
   "source": [
    "# Filter outliers (example: removing rows where 'age' > 100)\n",
    "df = df.filter(col(\"age\") <= 100)"
   ]
  },
  {
   "cell_type": "code",
   "execution_count": 7,
   "id": "3a13d528-4861-4da2-91fa-9accbf65d732",
   "metadata": {},
   "outputs": [
    {
     "name": "stdout",
     "output_type": "stream",
     "text": [
      "+---+-----------+--------+---------+-------+-------+-------+----+-------+---+-----+--------+--------+-----+--------+--------+---+\n",
      "|age|        job| marital|education|default|balance|housing|loan|contact|day|month|duration|campaign|pdays|previous|poutcome|  y|\n",
      "+---+-----------+--------+---------+-------+-------+-------+----+-------+---+-----+--------+--------+-----+--------+--------+---+\n",
      "| 28| unemployed|  single| tertiary|     no|      0|    yes|  no|unknown|  5|  may|     125|       2|   -1|       0| unknown| no|\n",
      "| 32| technician| married|secondary|     no|      0|    yes|  no|unknown|  6|  may|     176|       2|   -1|       0| unknown| no|\n",
      "| 56|blue-collar| married|secondary|     no|   1602|    yes|  no|unknown|  6|  may|     427|       1|   -1|       0| unknown| no|\n",
      "| 30|blue-collar|divorced|secondary|     no|    251|    yes| yes|unknown|  7|  may|     120|       2|   -1|       0| unknown| no|\n",
      "| 55|    retired| married|secondary|     no|    102|    yes|  no|unknown|  7|  may|      74|       1|   -1|       0| unknown| no|\n",
      "+---+-----------+--------+---------+-------+-------+-------+----+-------+---+-----+--------+--------+-----+--------+--------+---+\n",
      "only showing top 5 rows\n",
      "\n"
     ]
    }
   ],
   "source": [
    "df.show(5)\n",
    "# End of Data Cleaning"
   ]
  },
  {
   "cell_type": "code",
   "execution_count": 8,
   "id": "bf8dd1d5-8933-4075-a15a-aa44a217dce2",
   "metadata": {},
   "outputs": [
    {
     "name": "stdout",
     "output_type": "stream",
     "text": [
      "Mean Balance: 1327.779056772463\n",
      "Median Balance: 436.0\n",
      "Root Mean Squared Error (RMSE): 3005.5529\n",
      "+---+-------+-------+---------+-------+------------------+\n",
      "|age|job    |marital|education|balance|predicted_balance |\n",
      "+---+-------+-------+---------+-------+------------------+\n",
      "|18 |student|single |primary  |608    |993.2594755023945 |\n",
      "|19 |student|single |primary  |103    |1018.358974892383 |\n",
      "|19 |student|single |primary  |134    |1018.358974892383 |\n",
      "|20 |admin. |single |secondary|66     |763.8103656717127 |\n",
      "|20 |student|single |other    |8860   |1123.6569450273723|\n",
      "|20 |student|single |secondary|-322   |883.0615327923706 |\n",
      "|20 |student|single |secondary|502    |883.0615327923706 |\n",
      "|20 |student|single |tertiary |2764   |963.2600035373712 |\n",
      "|21 |student|single |other    |200    |1148.756444417361 |\n",
      "|21 |student|single |primary  |1596   |1068.5579736723603|\n",
      "+---+-------+-------+---------+-------+------------------+\n",
      "only showing top 10 rows\n",
      "\n"
     ]
    }
   ],
   "source": [
    "# Select relevant columns for predicting balance\n",
    "data = df.select('age', 'job', 'marital', 'education', 'balance')\n",
    "\n",
    "# Select relevant columns for predicting balance\n",
    "# data = data.select('age', 'job', 'marital', 'education', 'balance')\n",
    "\n",
    "# Handle missing values by treating 'unknown' as a separate category\n",
    "data = data.withColumn('job', when(data.job == 'unknown', 'other').otherwise(data.job))\n",
    "data = data.withColumn('education', when(data.education == 'unknown', 'other').otherwise(data.education))\n",
    "\n",
    "# Index categorical columns\n",
    "categorical_columns = ['job', 'marital', 'education']\n",
    "indexers = [StringIndexer(inputCol=column, outputCol=column + \"_index\") for column in categorical_columns]\n",
    "\n",
    "# Assemble all features into a single vector\n",
    "assembler = VectorAssembler(\n",
    "    inputCols=['age'] + [column + \"_index\" for column in categorical_columns],\n",
    "    outputCol=\"features\")\n",
    "\n",
    "# Split the data into training and testing sets\n",
    "train_data, test_data = data.randomSplit([0.8, 0.2], seed=42)\n",
    "\n",
    "test_data_df = test_data.toPandas()\n",
    "mean_subscription_count = test_data_df['balance'].mean()\n",
    "median_subscription_count = test_data_df['balance'].median()\n",
    "\n",
    "# Create a pipeline\n",
    "pipeline = Pipeline(stages=indexers + [assembler])\n",
    "\n",
    "# Fit the pipeline to the training data\n",
    "pipeline_model = pipeline.fit(train_data)\n",
    "train_data = pipeline_model.transform(train_data)\n",
    "test_data = pipeline_model.transform(test_data)\n",
    "\n",
    "\n",
    "# Select the features and target variable for training\n",
    "train_data = train_data.select('features', 'balance')\n",
    "test_data = test_data.select('features', 'balance', *categorical_columns, 'age')\n",
    "\n",
    "# Train a Linear Regression model\n",
    "lr = LinearRegression(featuresCol='features', labelCol='balance')\n",
    "lr_model = lr.fit(train_data)\n",
    "\n",
    "# Make predictions on the test data\n",
    "predictions = lr_model.transform(test_data)\n",
    "\n",
    "# Evaluate the model\n",
    "evaluator = RegressionEvaluator(labelCol='balance', predictionCol='prediction', metricName='rmse')\n",
    "rmse = evaluator.evaluate(predictions)\n",
    "\n",
    "print('Mean Balance:', mean_subscription_count)\n",
    "print('Median Balance:', median_subscription_count)\n",
    "\n",
    "print(f\"Root Mean Squared Error (RMSE): {rmse:.4f}\")\n",
    "\n",
    "# Show some predictions in a user-friendly format\n",
    "predictions = predictions.withColumn('predicted_balance', col('prediction'))\n",
    "predictions.select('age', 'job', 'marital', 'education', 'balance', 'predicted_balance').show(10, truncate=False)\n",
    "\n"
   ]
  },
  {
   "cell_type": "code",
   "execution_count": 9,
   "id": "bbdfffe5-26c6-4bf3-88bf-29e5a12a3d78",
   "metadata": {},
   "outputs": [
    {
     "name": "stdout",
     "output_type": "stream",
     "text": [
      "Test set RMSE for duration prediction: 267.9650461192681\n",
      "Mean Duration: 257.4216201271772\n",
      "Median Duration: 180.0\n",
      "+---+-----------+-------+---------+-------+-------+----+---------+--------+-----+--------+--------+--------+------------------+\n",
      "|age|        job|marital|education|balance|housing|loan|  contact|campaign|pdays|previous|poutcome|duration|        prediction|\n",
      "+---+-----------+-------+---------+-------+-------+----+---------+--------+-----+--------+--------+--------+------------------+\n",
      "| 18|    student| single|  unknown|     35|     no|  no|telephone|       2|   -1|       0| unknown|     104|264.48215146950866|\n",
      "| 19|    student| single|  primary|    103|     no|  no| cellular|       2|   97|       2| success|      96|259.29310784644906|\n",
      "| 20|    student| single|secondary|     88|     no|  no|telephone|       1|  181|       4|   other|     621|252.11533540356064|\n",
      "| 20|    student| single|secondary|    291|     no|  no|telephone|       5|  371|       5| failure|     172| 237.8638007393115|\n",
      "| 20|    student| single|secondary|    502|     no|  no| cellular|       1|   -1|       0| unknown|     261|273.52131383631394|\n",
      "| 20|    student| single|secondary|    602|    yes|  no| cellular|       4|   -1|       0| unknown|     373|276.05165930471355|\n",
      "| 20|    student| single|secondary|   1191|     no|  no| cellular|       1|   -1|       0| unknown|     274| 283.1901066231518|\n",
      "| 21|blue-collar|married|  primary|   -172|    yes| yes| cellular|       1|  361|       3| failure|     409|253.24348446362782|\n",
      "| 21|    student| single|  primary|   1596|     no|  no| cellular|       1|   93|       2| failure|     115| 278.6736931393396|\n",
      "| 21|    student| single|secondary|      6|     no|  no|  unknown|       1|   -1|       0| unknown|     622| 256.0551366826118|\n",
      "| 21|    student| single|secondary|    215|     no|  no| cellular|       1|   89|       7| success|     382| 256.9784136710447|\n",
      "| 21|    student| single|secondary|   2488|     no|  no| cellular|       1|   -1|       0| unknown|     180|282.80626215176363|\n",
      "| 21|    student| single| tertiary|   2764|    yes|  no| cellular|       2|  354|       2| failure|      78| 281.9483299691907|\n",
      "| 21|    student| single|  unknown|    200|     no|  no|  unknown|       1|   -1|       0| unknown|       8| 261.6358729853371|\n",
      "| 22|     admin.| single| tertiary|    897|    yes|  no| cellular|       4|   89|       4| success|      98| 269.6535601309523|\n",
      "| 22|blue-collar| single|secondary|      0|    yes|  no|  unknown|       1|   -1|       0| unknown|     123|270.53576376471335|\n",
      "| 22|   services|married|  primary|   7982|    yes|  no|  unknown|       1|   -1|       0| unknown|      18|270.77542143061095|\n",
      "| 22|   services| single|secondary|    250|    yes|  no| cellular|       3|   -1|       0| unknown|     117| 277.6796512895129|\n",
      "| 22|    student| single|secondary|    111|    yes|  no|  unknown|       1|   -1|       0| unknown|      89| 256.9678579013033|\n",
      "| 22|    student| single|secondary|   3982|     no|  no| cellular|       1|   -1|       0| unknown|     206|  284.648937358076|\n",
      "+---+-----------+-------+---------+-------+-------+----+---------+--------+-----+--------+--------+--------+------------------+\n",
      "only showing top 20 rows\n",
      "\n"
     ]
    }
   ],
   "source": [
    "# Select relevant features and the target variable for duration prediction\n",
    "duration_columns = ['age', 'job', 'marital', 'education', 'balance', 'housing', 'loan', 'contact', 'campaign', 'pdays', 'previous', 'poutcome', 'duration']\n",
    "df_duration = df.select(duration_columns)\n",
    "\n",
    "# Convert categorical features to numerical\n",
    "indexers = [StringIndexer(inputCol=column, outputCol=column+\"_index\").fit(df_duration) for column in categorical_columns]\n",
    "encoders = [OneHotEncoder(inputCol=column+\"_index\", outputCol=column+\"_encoded\") for column in categorical_columns]\n",
    "\n",
    "# Assemble features into a single vector\n",
    "assembler = VectorAssembler(inputCols=['age', 'balance', 'campaign', 'pdays', 'previous'] + \n",
    "                                      [column+\"_encoded\" for column in categorical_columns], outputCol=\"features\")\n",
    "\n",
    "# Initialize RandomForestRegressor\n",
    "rf_duration = RandomForestRegressor(featuresCol=\"features\", labelCol=\"duration\")\n",
    "\n",
    "# Create a pipeline\n",
    "pipeline_duration = Pipeline(stages=indexers + encoders + [assembler, rf_duration])\n",
    "\n",
    "# Split the data into training and test sets\n",
    "train_data_duration, test_data_duration = df_duration.randomSplit([0.8, 0.2], seed=1234)\n",
    "\n",
    "\n",
    "test_data_df = train_data_duration.toPandas()\n",
    "mean_subscription_count = test_data_df['duration'].mean()\n",
    "median_subscription_count = test_data_df['duration'].median()\n",
    "\n",
    "\n",
    "# Train the model\n",
    "model_duration = pipeline_duration.fit(train_data_duration)\n",
    "\n",
    "# Make predictions on the test set\n",
    "predictions_duration = model_duration.transform(test_data_duration)\n",
    "\n",
    "# Evaluate the model\n",
    "evaluator_duration = RegressionEvaluator(labelCol=\"duration\", predictionCol=\"prediction\")\n",
    "rmse_duration = evaluator_duration.evaluate(predictions_duration)\n",
    "print(f\"Test set RMSE for duration prediction: {rmse_duration}\")\n",
    "\n",
    "\n",
    "print('Mean Duration:', mean_subscription_count)\n",
    "print('Median Duration:', median_subscription_count)\n",
    "\n",
    "# Show the predictions\n",
    "predictions_duration.select(\"age\", \"job\", \"marital\", \"education\", \"balance\", \"housing\", \"loan\", \"contact\", \n",
    "                            \"campaign\", \"pdays\", \"previous\", \"poutcome\", \n",
    "                            \"duration\", \"prediction\").show()\n"
   ]
  },
  {
   "cell_type": "code",
   "execution_count": null,
   "id": "dd677c90-2de9-4981-a079-fc94c82d50d8",
   "metadata": {},
   "outputs": [],
   "source": []
  }
 ],
 "metadata": {
  "kernelspec": {
   "display_name": "Python 3 (ipykernel)",
   "language": "python",
   "name": "python3"
  },
  "language_info": {
   "codemirror_mode": {
    "name": "ipython",
    "version": 3
   },
   "file_extension": ".py",
   "mimetype": "text/x-python",
   "name": "python",
   "nbconvert_exporter": "python",
   "pygments_lexer": "ipython3",
   "version": "3.11.6"
  }
 },
 "nbformat": 4,
 "nbformat_minor": 5
}
