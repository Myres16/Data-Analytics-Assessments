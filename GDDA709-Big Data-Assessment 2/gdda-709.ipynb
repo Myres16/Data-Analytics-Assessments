{
 "cells": [
  {
   "cell_type": "code",
   "execution_count": 1,
   "id": "eb462472-76d3-4576-87a6-780cc1ec32b2",
   "metadata": {},
   "outputs": [],
   "source": [
    "#set up PySpark on your machine or cluster. Ensure you have Spark installed and configured properly.\n",
    "from pyspark import Row\n",
    "from pyspark.sql import SQLContext, SparkSession\n",
    "from pyspark.sql.functions import col, date_format, to_date, concat, concat_ws, sum as spark_sum, lit, when, row_number, trim, lag, mean as _mean, monotonically_increasing_id\n",
    "from pyspark.sql.window import Window\n",
    "from pyspark.ml.feature import StringIndexer, VectorAssembler, ChiSqSelector\n",
    "from pyspark.ml.regression import RandomForestRegressor\n",
    "from pyspark.sql.types import IntegerType\n",
    "from pyspark.ml.stat import ChiSquareTest\n",
    " \n",
    "from pyspark.ml.feature import VectorAssembler\n",
    "from pyspark.ml.classification import LogisticRegression\n",
    "from pyspark.ml.feature import RFormula\n",
    "from pyspark.ml.linalg import Vectors\n",
    "\n",
    "from statsmodels.tsa.statespace.sarimax import SARIMAX\n",
    "\n",
    "from statsmodels.tsa.seasonal import seasonal_decompose\n",
    "from statsmodels.tsa.stattools import adfuller\n",
    "\n",
    "import math\n",
    "import matplotlib.pyplot as plt\n",
    "import pandas as pd\n",
    "import numpy as np\n",
    "import pmdarima as pm\n",
    "\n",
    "spark = SparkSession.builder.appName(\"MyMapReduceJob\").getOrCreate()\n"
   ]
  },
  {
   "cell_type": "code",
   "execution_count": 2,
   "id": "8011e2ca-3bc9-471d-b220-744410a91399",
   "metadata": {},
   "outputs": [],
   "source": [
    "# install this before running \n",
    "# pip install pyspark pmdarima\n"
   ]
  },
  {
   "cell_type": "markdown",
   "id": "30c57b21-8fc7-4949-a5da-4a608e32b52d",
   "metadata": {},
   "source": [
    "Task 1 : Implementation of Big Data Framework<br/>\n",
    "Part A:<br/>\n",
    "Select a dataset that is relevant to the representative of the problem domain and aim of this \r\n",
    "assessment.<br/>\n",
    "<ul>\n",
    "    <li>Describe your dataset and provide details on the source, format, size, structure and content \n",
    "of the chosen dataset.</li>\n",
    "    <li>Clearly identify the target (output) and input data that is going to be used for modelling and \n",
    "classification purpose of this assessment.</li>\n",
    "</ul>ment."
   ]
  },
  {
   "cell_type": "code",
   "execution_count": 3,
   "id": "493e9af7-2c39-4dc9-a5f5-28f05a6315e6",
   "metadata": {},
   "outputs": [],
   "source": [
    "# This dataset contains data on direct marketing campaigns (phone calls) of a Portuguese banking institution. The goal is to predict whether the client will subscribe (yes/no) to a term deposit.\n",
    "# https://archive.ics.uci.edu/dataset/222/bank+marketing\n",
    "bank = spark.read.csv('bank_marketing.csv', header=True, inferSchema=True)"
   ]
  },
  {
   "cell_type": "code",
   "execution_count": 4,
   "id": "40c4f111-ee26-4c09-b74e-2701c66205fd",
   "metadata": {},
   "outputs": [],
   "source": [
    "\n",
    "# Add an index column to retain the original order\n",
    "bank = bank.withColumn(\"index\", monotonically_increasing_id())\n",
    "\n",
    "\n",
    "# Define a window specification\n",
    "window_spec = Window.orderBy(\"index\")\n",
    "\n",
    "# Calculate the previous month to determine year increment\n",
    "bank = bank.withColumn(\"prev_month\", lag(\"month\").over(window_spec))"
   ]
  },
  {
   "cell_type": "code",
   "execution_count": 5,
   "id": "0dbcd02c-8b08-45ab-8a96-7a9e4d5ee863",
   "metadata": {},
   "outputs": [
    {
     "name": "stdout",
     "output_type": "stream",
     "text": [
      "+---+------------+--------+---------+-------+-------+-------+----+-------+---+-----+--------+--------+-----+--------+--------+---+-----+----------+\n",
      "|age|         job| marital|education|default|balance|housing|loan|contact|day|month|duration|campaign|pdays|previous|poutcome|  y|index|prev_month|\n",
      "+---+------------+--------+---------+-------+-------+-------+----+-------+---+-----+--------+--------+-----+--------+--------+---+-----+----------+\n",
      "| 58|  management| married| tertiary|     no|   2143|    yes|  no|unknown|  5|  may|     261|       1|   -1|       0| unknown| no|    0|      NULL|\n",
      "| 44|  technician|  single|secondary|     no|     29|    yes|  no|unknown|  5|  may|     151|       1|   -1|       0| unknown| no|    1|       may|\n",
      "| 33|entrepreneur| married|secondary|     no|      2|    yes| yes|unknown|  5|  may|      76|       1|   -1|       0| unknown| no|    2|       may|\n",
      "| 47| blue-collar| married|  unknown|     no|   1506|    yes|  no|unknown|  5|  may|      92|       1|   -1|       0| unknown| no|    3|       may|\n",
      "| 33|     unknown|  single|  unknown|     no|      1|     no|  no|unknown|  5|  may|     198|       1|   -1|       0| unknown| no|    4|       may|\n",
      "| 35|  management| married| tertiary|     no|    231|    yes|  no|unknown|  5|  may|     139|       1|   -1|       0| unknown| no|    5|       may|\n",
      "| 28|  management|  single| tertiary|     no|    447|    yes| yes|unknown|  5|  may|     217|       1|   -1|       0| unknown| no|    6|       may|\n",
      "| 42|entrepreneur|divorced| tertiary|    yes|      2|    yes|  no|unknown|  5|  may|     380|       1|   -1|       0| unknown| no|    7|       may|\n",
      "| 58|     retired| married|  primary|     no|    121|    yes|  no|unknown|  5|  may|      50|       1|   -1|       0| unknown| no|    8|       may|\n",
      "| 43|  technician|  single|secondary|     no|    593|    yes|  no|unknown|  5|  may|      55|       1|   -1|       0| unknown| no|    9|       may|\n",
      "+---+------------+--------+---------+-------+-------+-------+----+-------+---+-----+--------+--------+-----+--------+--------+---+-----+----------+\n",
      "only showing top 10 rows\n",
      "\n"
     ]
    }
   ],
   "source": [
    "bank.show(10)"
   ]
  },
  {
   "cell_type": "code",
   "execution_count": 6,
   "id": "350eb67b-65de-4ad3-b490-edfcbd4ca3d3",
   "metadata": {},
   "outputs": [
    {
     "name": "stdout",
     "output_type": "stream",
     "text": [
      "root\n",
      " |-- age: integer (nullable = true)\n",
      " |-- job: string (nullable = true)\n",
      " |-- marital: string (nullable = true)\n",
      " |-- education: string (nullable = true)\n",
      " |-- default: string (nullable = true)\n",
      " |-- balance: integer (nullable = true)\n",
      " |-- housing: string (nullable = true)\n",
      " |-- loan: string (nullable = true)\n",
      " |-- contact: string (nullable = true)\n",
      " |-- day: integer (nullable = true)\n",
      " |-- month: string (nullable = true)\n",
      " |-- duration: integer (nullable = true)\n",
      " |-- campaign: integer (nullable = true)\n",
      " |-- pdays: integer (nullable = true)\n",
      " |-- previous: integer (nullable = true)\n",
      " |-- poutcome: string (nullable = true)\n",
      " |-- y: string (nullable = true)\n",
      " |-- index: long (nullable = false)\n",
      " |-- prev_month: string (nullable = true)\n",
      "\n"
     ]
    }
   ],
   "source": [
    "# Describe the dataset\n",
    "bank.printSchema()"
   ]
  },
  {
   "cell_type": "code",
   "execution_count": 7,
   "id": "70154ecb-2061-496d-91dd-ed6cf2aec1a8",
   "metadata": {},
   "outputs": [
    {
     "name": "stdout",
     "output_type": "stream",
     "text": [
      "The dataset contains 45211 rows and 19 columns.\n"
     ]
    }
   ],
   "source": [
    "# Describe the dataset\n",
    "num_rows = bank.count()\n",
    "num_columns = len(bank.columns)\n",
    "\n",
    "# Print basic information about the dataset\n",
    "print(f\"The dataset contains {num_rows} rows and {num_columns} columns.\")"
   ]
  },
  {
   "cell_type": "code",
   "execution_count": 8,
   "id": "e2340447-cd55-4194-890a-b000b6930ba4",
   "metadata": {},
   "outputs": [
    {
     "data": {
      "text/plain": [
       "Column<'y'>"
      ]
     },
     "execution_count": 8,
     "metadata": {},
     "output_type": "execute_result"
    }
   ],
   "source": [
    "# Identify the target (Output)\n",
    "# The target variable for this classification task is y. \n",
    "# This variable indicates whether the client has subscribed to a term deposit (yes or no). This binary outcome is what the model will predict.\n",
    "bank[\"y\"]"
   ]
  },
  {
   "cell_type": "code",
   "execution_count": 9,
   "id": "811baca1-f815-4dd9-8b08-46b590f87780",
   "metadata": {},
   "outputs": [],
   "source": [
    "# Removing column y or the target for the input data needed for modeling and classification purpose\n",
    "input_df = bank.drop(*[\"y\"])"
   ]
  },
  {
   "cell_type": "code",
   "execution_count": 10,
   "id": "1123efe5-39fb-4673-acba-dd9b27b462ed",
   "metadata": {},
   "outputs": [
    {
     "name": "stdout",
     "output_type": "stream",
     "text": [
      "root\n",
      " |-- age: integer (nullable = true)\n",
      " |-- job: string (nullable = true)\n",
      " |-- marital: string (nullable = true)\n",
      " |-- education: string (nullable = true)\n",
      " |-- default: string (nullable = true)\n",
      " |-- balance: integer (nullable = true)\n",
      " |-- housing: string (nullable = true)\n",
      " |-- loan: string (nullable = true)\n",
      " |-- contact: string (nullable = true)\n",
      " |-- day: integer (nullable = true)\n",
      " |-- month: string (nullable = true)\n",
      " |-- duration: integer (nullable = true)\n",
      " |-- campaign: integer (nullable = true)\n",
      " |-- pdays: integer (nullable = true)\n",
      " |-- previous: integer (nullable = true)\n",
      " |-- poutcome: string (nullable = true)\n",
      " |-- index: long (nullable = false)\n",
      " |-- prev_month: string (nullable = true)\n",
      "\n"
     ]
    }
   ],
   "source": [
    "# input data that is going to be used for modelling and classification purpose of this assessment.\n",
    "# The input features used for modeling and classification include the following columns\n",
    "input_df.printSchema()"
   ]
  },
  {
   "cell_type": "code",
   "execution_count": 11,
   "id": "a979b5c2-cd75-4ca9-b282-bd34e366a9f8",
   "metadata": {},
   "outputs": [
    {
     "name": "stdout",
     "output_type": "stream",
     "text": [
      "+-----+-----+-------+---------+-------+-------+-------+-----+-------+-----+-----+--------+--------+-----+--------+--------+-----+-----+----------+\n",
      "|  age|  job|marital|education|default|balance|housing| loan|contact|  day|month|duration|campaign|pdays|previous|poutcome|    y|index|prev_month|\n",
      "+-----+-----+-------+---------+-------+-------+-------+-----+-------+-----+-----+--------+--------+-----+--------+--------+-----+-----+----------+\n",
      "|false|false|  false|    false|  false|  false|  false|false|  false|false|false|   false|   false|false|   false|   false|false|false|      true|\n",
      "|false|false|  false|    false|  false|  false|  false|false|  false|false|false|   false|   false|false|   false|   false|false|false|     false|\n",
      "|false|false|  false|    false|  false|  false|  false|false|  false|false|false|   false|   false|false|   false|   false|false|false|     false|\n",
      "|false|false|  false|    false|  false|  false|  false|false|  false|false|false|   false|   false|false|   false|   false|false|false|     false|\n",
      "|false|false|  false|    false|  false|  false|  false|false|  false|false|false|   false|   false|false|   false|   false|false|false|     false|\n",
      "|false|false|  false|    false|  false|  false|  false|false|  false|false|false|   false|   false|false|   false|   false|false|false|     false|\n",
      "|false|false|  false|    false|  false|  false|  false|false|  false|false|false|   false|   false|false|   false|   false|false|false|     false|\n",
      "|false|false|  false|    false|  false|  false|  false|false|  false|false|false|   false|   false|false|   false|   false|false|false|     false|\n",
      "|false|false|  false|    false|  false|  false|  false|false|  false|false|false|   false|   false|false|   false|   false|false|false|     false|\n",
      "|false|false|  false|    false|  false|  false|  false|false|  false|false|false|   false|   false|false|   false|   false|false|false|     false|\n",
      "|false|false|  false|    false|  false|  false|  false|false|  false|false|false|   false|   false|false|   false|   false|false|false|     false|\n",
      "|false|false|  false|    false|  false|  false|  false|false|  false|false|false|   false|   false|false|   false|   false|false|false|     false|\n",
      "|false|false|  false|    false|  false|  false|  false|false|  false|false|false|   false|   false|false|   false|   false|false|false|     false|\n",
      "|false|false|  false|    false|  false|  false|  false|false|  false|false|false|   false|   false|false|   false|   false|false|false|     false|\n",
      "|false|false|  false|    false|  false|  false|  false|false|  false|false|false|   false|   false|false|   false|   false|false|false|     false|\n",
      "|false|false|  false|    false|  false|  false|  false|false|  false|false|false|   false|   false|false|   false|   false|false|false|     false|\n",
      "|false|false|  false|    false|  false|  false|  false|false|  false|false|false|   false|   false|false|   false|   false|false|false|     false|\n",
      "|false|false|  false|    false|  false|  false|  false|false|  false|false|false|   false|   false|false|   false|   false|false|false|     false|\n",
      "|false|false|  false|    false|  false|  false|  false|false|  false|false|false|   false|   false|false|   false|   false|false|false|     false|\n",
      "|false|false|  false|    false|  false|  false|  false|false|  false|false|false|   false|   false|false|   false|   false|false|false|     false|\n",
      "+-----+-----+-------+---------+-------+-------+-------+-----+-------+-----+-----+--------+--------+-----+--------+--------+-----+-----+----------+\n",
      "only showing top 20 rows\n",
      "\n"
     ]
    }
   ],
   "source": [
    "missing_df = bank.select([col(c).isNull().alias(c) for c in bank.columns])\n",
    "# Show the boolean DataFrame\n",
    "missing_df.show()"
   ]
  },
  {
   "cell_type": "code",
   "execution_count": 12,
   "id": "0ff24ca6-31d6-4c5c-bd99-91211dbefd5f",
   "metadata": {},
   "outputs": [
    {
     "name": "stdout",
     "output_type": "stream",
     "text": [
      "+---+---+-------+---------+-------+-------+-------+----+-------+---+-----+--------+--------+-----+--------+--------+---+-----+----------+\n",
      "|age|job|marital|education|default|balance|housing|loan|contact|day|month|duration|campaign|pdays|previous|poutcome|  y|index|prev_month|\n",
      "+---+---+-------+---------+-------+-------+-------+----+-------+---+-----+--------+--------+-----+--------+--------+---+-----+----------+\n",
      "|  0|  0|      0|        0|      0|      0|      0|   0|      0|  0|    0|       0|       0|    0|       0|       0|  0|    0|         1|\n",
      "|  0|  0|      0|        0|      0|      0|      0|   0|      0|  0|    0|       0|       0|    0|       0|       0|  0|    0|         0|\n",
      "|  0|  0|      0|        0|      0|      0|      0|   0|      0|  0|    0|       0|       0|    0|       0|       0|  0|    0|         0|\n",
      "|  0|  0|      0|        0|      0|      0|      0|   0|      0|  0|    0|       0|       0|    0|       0|       0|  0|    0|         0|\n",
      "|  0|  0|      0|        0|      0|      0|      0|   0|      0|  0|    0|       0|       0|    0|       0|       0|  0|    0|         0|\n",
      "|  0|  0|      0|        0|      0|      0|      0|   0|      0|  0|    0|       0|       0|    0|       0|       0|  0|    0|         0|\n",
      "|  0|  0|      0|        0|      0|      0|      0|   0|      0|  0|    0|       0|       0|    0|       0|       0|  0|    0|         0|\n",
      "|  0|  0|      0|        0|      0|      0|      0|   0|      0|  0|    0|       0|       0|    0|       0|       0|  0|    0|         0|\n",
      "|  0|  0|      0|        0|      0|      0|      0|   0|      0|  0|    0|       0|       0|    0|       0|       0|  0|    0|         0|\n",
      "|  0|  0|      0|        0|      0|      0|      0|   0|      0|  0|    0|       0|       0|    0|       0|       0|  0|    0|         0|\n",
      "|  0|  0|      0|        0|      0|      0|      0|   0|      0|  0|    0|       0|       0|    0|       0|       0|  0|    0|         0|\n",
      "|  0|  0|      0|        0|      0|      0|      0|   0|      0|  0|    0|       0|       0|    0|       0|       0|  0|    0|         0|\n",
      "|  0|  0|      0|        0|      0|      0|      0|   0|      0|  0|    0|       0|       0|    0|       0|       0|  0|    0|         0|\n",
      "|  0|  0|      0|        0|      0|      0|      0|   0|      0|  0|    0|       0|       0|    0|       0|       0|  0|    0|         0|\n",
      "|  0|  0|      0|        0|      0|      0|      0|   0|      0|  0|    0|       0|       0|    0|       0|       0|  0|    0|         0|\n",
      "|  0|  0|      0|        0|      0|      0|      0|   0|      0|  0|    0|       0|       0|    0|       0|       0|  0|    0|         0|\n",
      "|  0|  0|      0|        0|      0|      0|      0|   0|      0|  0|    0|       0|       0|    0|       0|       0|  0|    0|         0|\n",
      "|  0|  0|      0|        0|      0|      0|      0|   0|      0|  0|    0|       0|       0|    0|       0|       0|  0|    0|         0|\n",
      "|  0|  0|      0|        0|      0|      0|      0|   0|      0|  0|    0|       0|       0|    0|       0|       0|  0|    0|         0|\n",
      "|  0|  0|      0|        0|      0|      0|      0|   0|      0|  0|    0|       0|       0|    0|       0|       0|  0|    0|         0|\n",
      "+---+---+-------+---------+-------+-------+-------+----+-------+---+-----+--------+--------+-----+--------+--------+---+-----+----------+\n",
      "only showing top 20 rows\n",
      "\n"
     ]
    }
   ],
   "source": [
    "# Get the list of boolean columns\n",
    "boolean_columns = [col_name for col_name, dtype in missing_df.dtypes if dtype == 'boolean']\n",
    "\n",
    "\n",
    "# Convert boolean columns to integers\n",
    "for column in boolean_columns:\n",
    "    missing_df = missing_df.withColumn(column, col(column).cast(\"int\"))\n",
    "\n",
    "# Show the updated DataFrame\n",
    "missing_df.show()"
   ]
  },
  {
   "cell_type": "code",
   "execution_count": 13,
   "id": "b4a97f4a-233a-4f9d-962e-bac01169aa49",
   "metadata": {},
   "outputs": [
    {
     "name": "stdout",
     "output_type": "stream",
     "text": [
      "+-------+-----+-----+-------+---------+-------+-------+-------+-----+-------+-----+-----+--------+--------+-----+--------+--------+-----+-----+--------------------+\n",
      "|summary|  age|  job|marital|education|default|balance|housing| loan|contact|  day|month|duration|campaign|pdays|previous|poutcome|    y|index|          prev_month|\n",
      "+-------+-----+-----+-------+---------+-------+-------+-------+-----+-------+-----+-----+--------+--------+-----+--------+--------+-----+-----+--------------------+\n",
      "|  count|45211|45211|  45211|    45211|  45211|  45211|  45211|45211|  45211|45211|45211|   45211|   45211|45211|   45211|   45211|45211|45211|               45211|\n",
      "|   mean|  0.0|  0.0|    0.0|      0.0|    0.0|    0.0|    0.0|  0.0|    0.0|  0.0|  0.0|     0.0|     0.0|  0.0|     0.0|     0.0|  0.0|  0.0|2.211851098184070...|\n",
      "| stddev|  0.0|  0.0|    0.0|      0.0|    0.0|    0.0|    0.0|  0.0|    0.0|  0.0|  0.0|     0.0|     0.0|  0.0|     0.0|     0.0|  0.0|  0.0|0.004703032105125...|\n",
      "|    min|    0|    0|      0|        0|      0|      0|      0|    0|      0|    0|    0|       0|       0|    0|       0|       0|    0|    0|                   0|\n",
      "|    max|    0|    0|      0|        0|      0|      0|      0|    0|      0|    0|    0|       0|       0|    0|       0|       0|    0|    0|                   1|\n",
      "+-------+-----+-----+-------+---------+-------+-------+-------+-----+-------+-----+-----+--------+--------+-----+--------+--------+-----+-----+--------------------+\n",
      "\n"
     ]
    }
   ],
   "source": [
    "# Get summary statistics\n",
    "summary_stats = missing_df.describe(boolean_columns)\n",
    "summary_stats.show()"
   ]
  },
  {
   "cell_type": "markdown",
   "id": "03db760f-c950-4052-beec-a8fe05a66578",
   "metadata": {},
   "source": [
    "Data Cleaning"
   ]
  },
  {
   "cell_type": "code",
   "execution_count": 14,
   "id": "3535879a-3a79-4575-b5a3-342db040b557",
   "metadata": {},
   "outputs": [
    {
     "data": {
      "text/plain": [
       "age           0\n",
       "job           0\n",
       "marital       0\n",
       "education     0\n",
       "default       0\n",
       "balance       0\n",
       "housing       0\n",
       "loan          0\n",
       "contact       0\n",
       "day           0\n",
       "month         0\n",
       "duration      0\n",
       "campaign      0\n",
       "pdays         0\n",
       "previous      0\n",
       "poutcome      0\n",
       "y             0\n",
       "index         0\n",
       "prev_month    1\n",
       "dtype: int64"
      ]
     },
     "execution_count": 14,
     "metadata": {},
     "output_type": "execute_result"
    }
   ],
   "source": [
    "# Count the number of nulls in each column\n",
    "before_data_cleaning = bank.toPandas()\n",
    "before_data_cleaning.isnull().sum()\n"
   ]
  },
  {
   "cell_type": "code",
   "execution_count": 15,
   "id": "d59e1508-458e-41cb-a86b-c483430c11a5",
   "metadata": {},
   "outputs": [],
   "source": [
    "# Remove duplicates\n",
    "bank = bank.dropDuplicates()"
   ]
  },
  {
   "cell_type": "code",
   "execution_count": 16,
   "id": "dc9ebdc2-cd4c-425a-8c55-0ecad2e12085",
   "metadata": {},
   "outputs": [],
   "source": [
    "# Handle missing values\n",
    "# For simplicity, filling numeric columns with the mean and string columns with 'unknown'\n",
    "numeric_cols = [col_name for col_name, dtype in bank.dtypes if dtype in ['int', 'double']]\n",
    "string_cols = [col_name for col_name, dtype in bank.dtypes if dtype == 'string']\n",
    "\n",
    "# Fill numeric columns with mean\n",
    "for col_name in numeric_cols:\n",
    "    mean_val = bank.select(_mean(col(col_name))).collect()[0][0]\n",
    "    bank = bank.fillna(mean_val, subset=[col_name])"
   ]
  },
  {
   "cell_type": "code",
   "execution_count": 17,
   "id": "1a9a9db8-bf2d-4ba7-bd33-37d2308e0710",
   "metadata": {},
   "outputs": [],
   "source": [
    "# Fill string columns with 'unknown'\n",
    "bank = bank.fillna('unknown', subset=string_cols)\n",
    "\n",
    "# Convert data types (example: converting a column 'age' to integer)\n",
    "bank = bank.withColumn(\"age\", col(\"age\").cast(\"integer\"))"
   ]
  },
  {
   "cell_type": "code",
   "execution_count": 18,
   "id": "09e3f349-80fa-49d9-ac41-bc8d5a89a6c2",
   "metadata": {},
   "outputs": [],
   "source": [
    "# Trim whitespace from string columns\n",
    "for col_name in string_cols:\n",
    "    bank = bank.withColumn(col_name, trim(col(col_name)))"
   ]
  },
  {
   "cell_type": "code",
   "execution_count": 19,
   "id": "34609e83-716e-49d9-a94d-3761a59ac628",
   "metadata": {},
   "outputs": [],
   "source": [
    "# Filter outliers (example: removing rows where 'age' > 100)\n",
    "bank = bank.filter(col(\"age\") <= 100)"
   ]
  },
  {
   "cell_type": "code",
   "execution_count": 20,
   "id": "140a6c87-f24b-493b-bea6-bbc78a944ab8",
   "metadata": {},
   "outputs": [
    {
     "name": "stdout",
     "output_type": "stream",
     "text": [
      "+---+------------+-------+---------+-------+-------+-------+----+-------+---+-----+--------+--------+-----+--------+--------+---+-----+----------+\n",
      "|age|         job|marital|education|default|balance|housing|loan|contact|day|month|duration|campaign|pdays|previous|poutcome|  y|index|prev_month|\n",
      "+---+------------+-------+---------+-------+-------+-------+----+-------+---+-----+--------+--------+-----+--------+--------+---+-----+----------+\n",
      "| 44|  technician| single|secondary|     no|     29|    yes|  no|unknown|  5|  may|     151|       1|   -1|       0| unknown| no|    1|       may|\n",
      "| 33|entrepreneur|married|secondary|     no|      2|    yes| yes|unknown|  5|  may|      76|       1|   -1|       0| unknown| no|    2|       may|\n",
      "| 47| blue-collar|married|  unknown|     no|   1506|    yes|  no|unknown|  5|  may|      92|       1|   -1|       0| unknown| no|    3|       may|\n",
      "| 33|     unknown| single|  unknown|     no|      1|     no|  no|unknown|  5|  may|     198|       1|   -1|       0| unknown| no|    4|       may|\n",
      "| 35|  management|married| tertiary|     no|    231|    yes|  no|unknown|  5|  may|     139|       1|   -1|       0| unknown| no|    5|       may|\n",
      "+---+------------+-------+---------+-------+-------+-------+----+-------+---+-----+--------+--------+-----+--------+--------+---+-----+----------+\n",
      "only showing top 5 rows\n",
      "\n"
     ]
    }
   ],
   "source": [
    "bank.show(5)"
   ]
  },
  {
   "cell_type": "code",
   "execution_count": 21,
   "id": "748b40cd-43ec-4045-bfd3-3b8ccc242f79",
   "metadata": {},
   "outputs": [
    {
     "data": {
      "text/plain": [
       "age           0\n",
       "job           0\n",
       "marital       0\n",
       "education     0\n",
       "default       0\n",
       "balance       0\n",
       "housing       0\n",
       "loan          0\n",
       "contact       0\n",
       "day           0\n",
       "month         0\n",
       "duration      0\n",
       "campaign      0\n",
       "pdays         0\n",
       "previous      0\n",
       "poutcome      0\n",
       "y             0\n",
       "index         0\n",
       "prev_month    0\n",
       "dtype: int64"
      ]
     },
     "execution_count": 21,
     "metadata": {},
     "output_type": "execute_result"
    }
   ],
   "source": [
    "after_data_cleaning = bank.toPandas()\n",
    "after_data_cleaning.isnull().sum()"
   ]
  },
  {
   "cell_type": "code",
   "execution_count": 22,
   "id": "a9691a34-c52b-4076-8f7a-b4574344df3b",
   "metadata": {},
   "outputs": [
    {
     "name": "stdout",
     "output_type": "stream",
     "text": [
      "The dataset contains 45211 rows and 19 columns.\n",
      "+---+------------+--------+---------+-------+-------+-------+----+-------+---+-----+--------+--------+-----+--------+--------+---+-----+----------+\n",
      "|age|         job| marital|education|default|balance|housing|loan|contact|day|month|duration|campaign|pdays|previous|poutcome|  y|index|prev_month|\n",
      "+---+------------+--------+---------+-------+-------+-------+----+-------+---+-----+--------+--------+-----+--------+--------+---+-----+----------+\n",
      "| 58|  management| married| tertiary|     no|   2143|    yes|  no|unknown|  5|  may|     261|       1|   -1|       0| unknown| no|    0|   unknown|\n",
      "| 44|  technician|  single|secondary|     no|     29|    yes|  no|unknown|  5|  may|     151|       1|   -1|       0| unknown| no|    1|       may|\n",
      "| 33|entrepreneur| married|secondary|     no|      2|    yes| yes|unknown|  5|  may|      76|       1|   -1|       0| unknown| no|    2|       may|\n",
      "| 47| blue-collar| married|  unknown|     no|   1506|    yes|  no|unknown|  5|  may|      92|       1|   -1|       0| unknown| no|    3|       may|\n",
      "| 33|     unknown|  single|  unknown|     no|      1|     no|  no|unknown|  5|  may|     198|       1|   -1|       0| unknown| no|    4|       may|\n",
      "| 35|  management| married| tertiary|     no|    231|    yes|  no|unknown|  5|  may|     139|       1|   -1|       0| unknown| no|    5|       may|\n",
      "| 28|  management|  single| tertiary|     no|    447|    yes| yes|unknown|  5|  may|     217|       1|   -1|       0| unknown| no|    6|       may|\n",
      "| 42|entrepreneur|divorced| tertiary|    yes|      2|    yes|  no|unknown|  5|  may|     380|       1|   -1|       0| unknown| no|    7|       may|\n",
      "| 58|     retired| married|  primary|     no|    121|    yes|  no|unknown|  5|  may|      50|       1|   -1|       0| unknown| no|    8|       may|\n",
      "| 43|  technician|  single|secondary|     no|    593|    yes|  no|unknown|  5|  may|      55|       1|   -1|       0| unknown| no|    9|       may|\n",
      "| 41|      admin.|divorced|secondary|     no|    270|    yes|  no|unknown|  5|  may|     222|       1|   -1|       0| unknown| no|   10|       may|\n",
      "| 29|      admin.|  single|secondary|     no|    390|    yes|  no|unknown|  5|  may|     137|       1|   -1|       0| unknown| no|   11|       may|\n",
      "| 53|  technician| married|secondary|     no|      6|    yes|  no|unknown|  5|  may|     517|       1|   -1|       0| unknown| no|   12|       may|\n",
      "| 58|  technician| married|  unknown|     no|     71|    yes|  no|unknown|  5|  may|      71|       1|   -1|       0| unknown| no|   13|       may|\n",
      "| 57|    services| married|secondary|     no|    162|    yes|  no|unknown|  5|  may|     174|       1|   -1|       0| unknown| no|   14|       may|\n",
      "| 51|     retired| married|  primary|     no|    229|    yes|  no|unknown|  5|  may|     353|       1|   -1|       0| unknown| no|   15|       may|\n",
      "| 45|      admin.|  single|  unknown|     no|     13|    yes|  no|unknown|  5|  may|      98|       1|   -1|       0| unknown| no|   16|       may|\n",
      "| 57| blue-collar| married|  primary|     no|     52|    yes|  no|unknown|  5|  may|      38|       1|   -1|       0| unknown| no|   17|       may|\n",
      "| 60|     retired| married|  primary|     no|     60|    yes|  no|unknown|  5|  may|     219|       1|   -1|       0| unknown| no|   18|       may|\n",
      "| 33|    services| married|secondary|     no|      0|    yes|  no|unknown|  5|  may|      54|       1|   -1|       0| unknown| no|   19|       may|\n",
      "+---+------------+--------+---------+-------+-------+-------+----+-------+---+-----+--------+--------+-----+--------+--------+---+-----+----------+\n",
      "only showing top 20 rows\n",
      "\n"
     ]
    }
   ],
   "source": [
    "# Describe the dataset\n",
    "num_rows = bank.count()\n",
    "num_columns = len(bank.columns)\n",
    "\n",
    "# Print basic information about the dataset\n",
    "print(f\"The dataset contains {num_rows} rows and {num_columns} columns.\")\n",
    "\n",
    "bank = bank.orderBy(\"index\")\n",
    "\n",
    "bank.show()"
   ]
  },
  {
   "cell_type": "markdown",
   "id": "9e5c8962-942f-424d-9fa0-5d976ab32a26",
   "metadata": {},
   "source": [
    "Task 2: Applying MapReduce on Big Data to Distribute Processing Among Multiple Machines in a Cluster"
   ]
  },
  {
   "cell_type": "code",
   "execution_count": 23,
   "id": "628850e0-15e5-4700-b719-f4692253e461",
   "metadata": {},
   "outputs": [
    {
     "name": "stdout",
     "output_type": "stream",
     "text": [
      "+-------------+------------------+------+------------------+-------+--------+\n",
      "|          job|              mean|median|               std|    min|     max|\n",
      "+-------------+------------------+------+------------------+-------+--------+\n",
      "|   Management|1763.6168323112709| 572.0|3822.7634976653067|-6847.0|102127.0|\n",
      "|   Technician|1252.6320916151112| 421.0| 2548.376280354937|-2827.0| 45248.0|\n",
      "| Entrepreneur| 1521.470073974445| 352.0| 4152.045806049529|-2082.0| 59649.0|\n",
      "|  Blue-collar|1078.8266543362104| 388.0| 2240.408093508609|-8019.0| 66653.0|\n",
      "|      Unknown| 1772.357638888889| 677.0|  2965.12732427762| -295.0| 19706.0|\n",
      "|      Retired| 1984.215106007067| 787.0| 4396.072990894666|-1598.0| 81204.0|\n",
      "|       Admin.| 1135.838909301876| 396.0|2641.7072138002877|-1601.0| 64343.0|\n",
      "|     Services| 997.0881078478575| 339.5|2164.2329577841433|-2122.0| 57435.0|\n",
      "|Self-employed|1647.9708676377454| 526.0|3683.0927450824506|-3313.0| 52587.0|\n",
      "|   Unemployed|1521.7459708365311| 529.0|3143.4598197626574|-1270.0| 44134.0|\n",
      "|    Housemaid|1392.3951612903227| 406.0| 2983.488349930352|-1941.0| 45141.0|\n",
      "|      Student|1388.0607675906183| 502.0| 2440.401631092878| -679.0| 24025.0|\n",
      "+-------------+------------------+------+------------------+-------+--------+\n",
      "\n"
     ]
    }
   ],
   "source": [
    "indexer = StringIndexer(inputCol=\"y\", outputCol=\"y_index\")\n",
    "bank = indexer.fit(bank).transform(bank)\n",
    "\n",
    "rdd = bank.rdd\n",
    "\n",
    "# Map function to emit (job, balance)\n",
    "def map_function(row):    \n",
    "    return (row['job'], float(row['balance']))\n",
    "\n",
    "# Reduce function to compute the required statistics\n",
    "def reduce_function(a, b):\n",
    "    return (\n",
    "        a[0] + b[0],       # Sum of balances\n",
    "        a[1] + b[1],       # Count of balances\n",
    "        a[2] + b[2],       # List of balances\n",
    "        min(a[3], b[3]),   # Minimum balance\n",
    "        max(a[4], b[4])    # Maximum balance\n",
    "    )\n",
    "\n",
    "\n",
    "# Transform the RDD\n",
    "mapped_rdd = rdd.map(map_function).mapValues(lambda x: (x, 1, [x], x, x))\n",
    "\n",
    "# Aggregate by key (job)\n",
    "reduced_rdd = mapped_rdd.reduceByKey(reduce_function)\n",
    "\n",
    "# Calculate final statistics\n",
    "def final_stats(value):\n",
    "    total_balance, count, balance_list, min_balance, max_balance = value\n",
    "    mean_balance = total_balance / count\n",
    "    balance_list.sort()\n",
    "    median_balance = balance_list[count // 2] if count % 2 != 0 else (balance_list[count // 2 - 1] + balance_list[count // 2]) / 2\n",
    "    stddev_balance = math.sqrt(sum((x - mean_balance) ** 2 for x in balance_list) / count)\n",
    "    return (mean_balance, median_balance, stddev_balance, min_balance, max_balance)\n",
    "\n",
    "# Apply final_stats function to each reduced value\n",
    "final_rdd = reduced_rdd.mapValues(final_stats)\n",
    "\n",
    "# Convert the results to a list of Row objects\n",
    "rows = final_rdd.map(lambda x: Row(\n",
    "    job=x[0].capitalize(),\n",
    "    mean=x[1][0],\n",
    "    median=x[1][1],\n",
    "    std=x[1][2],\n",
    "    min=x[1][3],\n",
    "    max=x[1][4]\n",
    ")).collect()\n",
    "\n",
    "\n",
    "# Create a DataFrame from the list of Row objects\n",
    "results_df = spark.createDataFrame(rows)\n",
    "\n",
    "# Show the DataFrame\n",
    "results_df.show()"
   ]
  },
  {
   "cell_type": "code",
   "execution_count": 24,
   "id": "40a8d94c-0516-45c8-8e26-2be1327df9e9",
   "metadata": {},
   "outputs": [
    {
     "data": {
      "image/png": "[encoded data removed]",
      "text/plain": [
       "<Figure size 1200x600 with 1 Axes>"
      ]
     },
     "metadata": {},
     "output_type": "display_data"
    }
   ],
   "source": [
    "pandas_df = results_df.toPandas()\n",
    "\n",
    "# Plotting the data\n",
    "fig, ax = plt.subplots(figsize=(12, 6))\n",
    "\n",
    "# Plot mean, median, std, min, and max for each job\n",
    "ax.bar(pandas_df['job'], pandas_df['mean'], yerr=pandas_df['std'], capsize=5, label='Mean', color='skyblue')\n",
    "ax.plot(pandas_df['job'], pandas_df['median'], marker='o', linestyle='-', color='green', label='Median')\n",
    "ax.plot(pandas_df['job'], pandas_df['min'], marker='^', linestyle='--', color='red', label='Min')\n",
    "ax.plot(pandas_df['job'], pandas_df['max'], marker='v', linestyle='--', color='blue', label='Max')\n",
    "\n",
    "# Customizing the plot\n",
    "ax.set_xlabel('Job')\n",
    "ax.set_ylabel('Values')\n",
    "ax.set_title('Job Statistics')\n",
    "ax.legend()\n",
    "\n",
    "# Show plot\n",
    "plt.show()"
   ]
  },
  {
   "cell_type": "code",
   "execution_count": 25,
   "id": "fcceb345-5741-4afa-8544-7b5fcf8fc397",
   "metadata": {},
   "outputs": [
    {
     "name": "stdout",
     "output_type": "stream",
     "text": [
      "last year 2010\n"
     ]
    }
   ],
   "source": [
    "# Generate Year column as needed for Timeseries\n",
    "bank = bank.withColumn(\n",
    "    \"month\",\n",
    "    when(col(\"month\") == \"jan\", 1)\n",
    "    .when(col(\"month\") == \"feb\", 2)\n",
    "    .when(col(\"month\") == \"mar\", 3)\n",
    "    .when(col(\"month\") == \"apr\", 4)\n",
    "    .when(col(\"month\") == \"may\", 5)\n",
    "    .when(col(\"month\") == \"jun\", 6)\n",
    "    .when(col(\"month\") == \"jul\", 7)\n",
    "    .when(col(\"month\") == \"aug\", 8)\n",
    "    .when(col(\"month\") == \"sep\", 9)\n",
    "    .when(col(\"month\") == \"oct\", 10)\n",
    "    .when(col(\"month\") == \"nov\", 11)\n",
    "    .when(col(\"month\") == \"dec\", 12)\n",
    ")\n",
    "\n",
    "pdf = bank.toPandas()\n",
    "pdf['year'] = 2008\n",
    "current_year = 2008\n",
    "\n",
    "last_month = ''\n",
    "years = []\n",
    "\n",
    "\n",
    "for index, row in pdf.iterrows():    \n",
    "    if row['month'] == 1 and last_month != 1:        \n",
    "        current_year = current_year + 1         \n",
    "    last_month = row['month']\n",
    "    pdf.at[index, 'year'] = current_year\n",
    "\n",
    "print(f'last year {current_year}')\n",
    "\n",
    "bank = spark.createDataFrame(pdf)\n",
    "bank.toPandas().tail(100)\n",
    "\n",
    "\n",
    "# Create a proper timestamp column\n",
    "bank = bank.withColumn(\"date_str\", concat_ws(\"-\", col(\"year\"), col(\"month\"), lit(1)))\n",
    "bank = bank.withColumn(\"timestamp\", date_format(col(\"date_str\"), \"yyyy-MM-dd\"))\n",
    "\n",
    " \n"
   ]
  },
  {
   "cell_type": "code",
   "execution_count": 26,
   "id": "891a9425-d049-4a33-9fda-164858085a00",
   "metadata": {},
   "outputs": [
    {
     "name": "stdout",
     "output_type": "stream",
     "text": [
      "+---+------------+--------+---------+-------+-------+-------+----+-------+---+-----+--------+--------+-----+--------+--------+---+-----+----------+-------+----+--------+----------+\n",
      "|age|         job| marital|education|default|balance|housing|loan|contact|day|month|duration|campaign|pdays|previous|poutcome|  y|index|prev_month|y_index|year|date_str| timestamp|\n",
      "+---+------------+--------+---------+-------+-------+-------+----+-------+---+-----+--------+--------+-----+--------+--------+---+-----+----------+-------+----+--------+----------+\n",
      "| 58|  management| married| tertiary|     no|   2143|    yes|  no|unknown|  5|    5|     261|       1|   -1|       0| unknown| no|    0|   unknown|    0.0|2008|2008-5-1|2008-05-01|\n",
      "| 44|  technician|  single|secondary|     no|     29|    yes|  no|unknown|  5|    5|     151|       1|   -1|       0| unknown| no|    1|       may|    0.0|2008|2008-5-1|2008-05-01|\n",
      "| 33|entrepreneur| married|secondary|     no|      2|    yes| yes|unknown|  5|    5|      76|       1|   -1|       0| unknown| no|    2|       may|    0.0|2008|2008-5-1|2008-05-01|\n",
      "| 47| blue-collar| married|  unknown|     no|   1506|    yes|  no|unknown|  5|    5|      92|       1|   -1|       0| unknown| no|    3|       may|    0.0|2008|2008-5-1|2008-05-01|\n",
      "| 33|     unknown|  single|  unknown|     no|      1|     no|  no|unknown|  5|    5|     198|       1|   -1|       0| unknown| no|    4|       may|    0.0|2008|2008-5-1|2008-05-01|\n",
      "| 35|  management| married| tertiary|     no|    231|    yes|  no|unknown|  5|    5|     139|       1|   -1|       0| unknown| no|    5|       may|    0.0|2008|2008-5-1|2008-05-01|\n",
      "| 28|  management|  single| tertiary|     no|    447|    yes| yes|unknown|  5|    5|     217|       1|   -1|       0| unknown| no|    6|       may|    0.0|2008|2008-5-1|2008-05-01|\n",
      "| 42|entrepreneur|divorced| tertiary|    yes|      2|    yes|  no|unknown|  5|    5|     380|       1|   -1|       0| unknown| no|    7|       may|    0.0|2008|2008-5-1|2008-05-01|\n",
      "| 58|     retired| married|  primary|     no|    121|    yes|  no|unknown|  5|    5|      50|       1|   -1|       0| unknown| no|    8|       may|    0.0|2008|2008-5-1|2008-05-01|\n",
      "| 43|  technician|  single|secondary|     no|    593|    yes|  no|unknown|  5|    5|      55|       1|   -1|       0| unknown| no|    9|       may|    0.0|2008|2008-5-1|2008-05-01|\n",
      "| 41|      admin.|divorced|secondary|     no|    270|    yes|  no|unknown|  5|    5|     222|       1|   -1|       0| unknown| no|   10|       may|    0.0|2008|2008-5-1|2008-05-01|\n",
      "| 29|      admin.|  single|secondary|     no|    390|    yes|  no|unknown|  5|    5|     137|       1|   -1|       0| unknown| no|   11|       may|    0.0|2008|2008-5-1|2008-05-01|\n",
      "| 53|  technician| married|secondary|     no|      6|    yes|  no|unknown|  5|    5|     517|       1|   -1|       0| unknown| no|   12|       may|    0.0|2008|2008-5-1|2008-05-01|\n",
      "| 58|  technician| married|  unknown|     no|     71|    yes|  no|unknown|  5|    5|      71|       1|   -1|       0| unknown| no|   13|       may|    0.0|2008|2008-5-1|2008-05-01|\n",
      "| 57|    services| married|secondary|     no|    162|    yes|  no|unknown|  5|    5|     174|       1|   -1|       0| unknown| no|   14|       may|    0.0|2008|2008-5-1|2008-05-01|\n",
      "| 51|     retired| married|  primary|     no|    229|    yes|  no|unknown|  5|    5|     353|       1|   -1|       0| unknown| no|   15|       may|    0.0|2008|2008-5-1|2008-05-01|\n",
      "| 45|      admin.|  single|  unknown|     no|     13|    yes|  no|unknown|  5|    5|      98|       1|   -1|       0| unknown| no|   16|       may|    0.0|2008|2008-5-1|2008-05-01|\n",
      "| 57| blue-collar| married|  primary|     no|     52|    yes|  no|unknown|  5|    5|      38|       1|   -1|       0| unknown| no|   17|       may|    0.0|2008|2008-5-1|2008-05-01|\n",
      "| 60|     retired| married|  primary|     no|     60|    yes|  no|unknown|  5|    5|     219|       1|   -1|       0| unknown| no|   18|       may|    0.0|2008|2008-5-1|2008-05-01|\n",
      "| 33|    services| married|secondary|     no|      0|    yes|  no|unknown|  5|    5|      54|       1|   -1|       0| unknown| no|   19|       may|    0.0|2008|2008-5-1|2008-05-01|\n",
      "+---+------------+--------+---------+-------+-------+-------+----+-------+---+-----+--------+--------+-----+--------+--------+---+-----+----------+-------+----+--------+----------+\n",
      "only showing top 20 rows\n",
      "\n"
     ]
    }
   ],
   "source": [
    "bank.show()"
   ]
  },
  {
   "cell_type": "code",
   "execution_count": 27,
   "id": "41c205b5-c083-462e-98cf-925a2568473f",
   "metadata": {},
   "outputs": [
    {
     "name": "stdout",
     "output_type": "stream",
     "text": [
      "The dataset contains 45211 rows and 23 columns.\n"
     ]
    }
   ],
   "source": [
    "# Describe the dataset\n",
    "num_rows = bank.count()\n",
    "num_columns = len(bank.columns)\n",
    "bank.toPandas().to_csv('bank_marketing_with_timeseries.csv')\n",
    "# Print basic information about the dataset\n",
    "print(f\"The dataset contains {num_rows} rows and {num_columns} columns.\")"
   ]
  },
  {
   "cell_type": "code",
   "execution_count": 28,
   "id": "78398386-6188-4b0e-8810-26491d90936b",
   "metadata": {},
   "outputs": [],
   "source": [
    "spark.stop()"
   ]
  }
 ],
 "metadata": {
  "kernelspec": {
   "display_name": "Python 3 (ipykernel)",
   "language": "python",
   "name": "python3"
  },
  "language_info": {
   "codemirror_mode": {
    "name": "ipython",
    "version": 3
   },
   "file_extension": ".py",
   "mimetype": "text/x-python",
   "name": "python",
   "nbconvert_exporter": "python",
   "pygments_lexer": "ipython3",
   "version": "3.11.6"
  }
 },
 "nbformat": 4,
 "nbformat_minor": 5
}
